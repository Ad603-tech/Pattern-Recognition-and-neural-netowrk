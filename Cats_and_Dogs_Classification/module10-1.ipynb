{
 "cells": [
  {
   "cell_type": "markdown",
   "metadata": {},
   "source": [
    "# Prepare dataset for training"
   ]
  },
  {
   "cell_type": "code",
   "execution_count": 55,
   "metadata": {},
   "outputs": [],
   "source": [
    "import os, shutil, pathlib\n",
    "import cv2\n",
    "import numpy as np"
   ]
  },
  {
   "cell_type": "code",
   "execution_count": 56,
   "metadata": {},
   "outputs": [],
   "source": [
    "original_dir = pathlib.Path(\"train\")\n",
    "new_base_dir = pathlib.Path(\"cats_vs_dogs\")"
   ]
  },
  {
   "cell_type": "code",
   "execution_count": 57,
   "metadata": {},
   "outputs": [],
   "source": [
    "def make_subset(subset_name, start_index, end_index):\n",
    "    for category in (\"cat\", \"dog\"):\n",
    "        dir = new_base_dir / subset_name / category\n",
    "        if os.path.exists(dir):\n",
    "            print(f'{dir} exists. Abort making subset.')\n",
    "            continue\n",
    "        os.makedirs(dir)\n",
    "        fnames = [f\"{category}.{i}.jpg\" for i in range (start_index, end_index)]\n",
    "        for fname in fnames:\n",
    "            shutil.copyfile(src=original_dir / fname, dst=dir / fname)\n",
    "            "
   ]
  },
  {
   "cell_type": "code",
   "execution_count": 58,
   "metadata": {},
   "outputs": [
    {
     "name": "stdout",
     "output_type": "stream",
     "text": [
      "cats_vs_dogs\\train\\cat exists. Abort making subset.\n",
      "cats_vs_dogs\\train\\dog exists. Abort making subset.\n",
      "cats_vs_dogs\\validation\\cat exists. Abort making subset.\n",
      "cats_vs_dogs\\validation\\dog exists. Abort making subset.\n",
      "cats_vs_dogs\\test\\cat exists. Abort making subset.\n",
      "cats_vs_dogs\\test\\dog exists. Abort making subset.\n"
     ]
    }
   ],
   "source": [
    "make_subset(\"train\", start_index = 0, end_index = 1000)\n",
    "make_subset(\"validation\", start_index = 1000, end_index = 1500)\n",
    "make_subset(\"test\", start_index = 1500, end_index = 2500)"
   ]
  },
  {
   "cell_type": "markdown",
   "metadata": {},
   "source": [
    "# Building a model"
   ]
  },
  {
   "cell_type": "code",
   "execution_count": 60,
   "metadata": {},
   "outputs": [],
   "source": [
    "import tensorflow as tf\n",
    "from tensorflow import keras\n",
    "from tensorflow.keras import layers"
   ]
  },
  {
   "cell_type": "code",
   "execution_count": 28,
   "metadata": {},
   "outputs": [
    {
     "name": "stdout",
     "output_type": "stream",
     "text": [
      "2.6.0\n"
     ]
    }
   ],
   "source": [
    "print(keras.__version__)"
   ]
  },
  {
   "cell_type": "code",
   "execution_count": 29,
   "metadata": {},
   "outputs": [
    {
     "data": {
      "text/plain": [
       "True"
      ]
     },
     "execution_count": 29,
     "metadata": {},
     "output_type": "execute_result"
    }
   ],
   "source": [
    "tf.test.is_gpu_available()\n",
    "#tf.test.is_built_with_cuda()"
   ]
  },
  {
   "cell_type": "code",
   "execution_count": 30,
   "metadata": {},
   "outputs": [
    {
     "name": "stdout",
     "output_type": "stream",
     "text": [
      " Num GPUs Available:  1\n"
     ]
    }
   ],
   "source": [
    "print(\" Num GPUs Available: \", len(tf.config.experimental.list_physical_devices('GPU')))"
   ]
  },
  {
   "cell_type": "code",
   "execution_count": 62,
   "metadata": {},
   "outputs": [],
   "source": [
    "inputs = keras.Input(shape=(180, 180, 3))\n",
    "x = layers.Rescaling(1./255)(inputs)\n",
    "x = layers.Conv2D(filters=32, kernel_size=3, activation=\"relu\")(x)\n",
    "x = layers.MaxPooling2D(pool_size=2)(x)\n",
    "x = layers.Conv2D(filters=64, kernel_size=3, activation=\"relu\")(x)\n",
    "x = layers.MaxPooling2D(pool_size=2)(x)\n",
    "x = layers.Conv2D(filters=128, kernel_size=3, activation=\"relu\")(x)\n",
    "x = layers.MaxPooling2D(pool_size=2)(x)\n",
    "x = layers.Conv2D(filters=256, kernel_size=3, activation=\"relu\")(x)\n",
    "x = layers.MaxPooling2D(pool_size=2)(x)\n",
    "x = layers.Conv2D(filters=256, kernel_size=3, activation=\"relu\")(x)\n",
    "\n",
    "x = layers.Flatten()(x)\n",
    "outputs = layers.Dense(1, activation=\"sigmoid\")(x)\n",
    "model = keras.Model(inputs=inputs, outputs=outputs)\n"
   ]
  },
  {
   "cell_type": "code",
   "execution_count": 63,
   "metadata": {},
   "outputs": [
    {
     "name": "stdout",
     "output_type": "stream",
     "text": [
      "Model: \"model_3\"\n",
      "_________________________________________________________________\n",
      "Layer (type)                 Output Shape              Param #   \n",
      "=================================================================\n",
      "input_4 (InputLayer)         [(None, 180, 180, 3)]     0         \n",
      "_________________________________________________________________\n",
      "rescaling_3 (Rescaling)      (None, 180, 180, 3)       0         \n",
      "_________________________________________________________________\n",
      "conv2d_15 (Conv2D)           (None, 178, 178, 32)      896       \n",
      "_________________________________________________________________\n",
      "max_pooling2d_12 (MaxPooling (None, 89, 89, 32)        0         \n",
      "_________________________________________________________________\n",
      "conv2d_16 (Conv2D)           (None, 87, 87, 64)        18496     \n",
      "_________________________________________________________________\n",
      "max_pooling2d_13 (MaxPooling (None, 43, 43, 64)        0         \n",
      "_________________________________________________________________\n",
      "conv2d_17 (Conv2D)           (None, 41, 41, 128)       73856     \n",
      "_________________________________________________________________\n",
      "max_pooling2d_14 (MaxPooling (None, 20, 20, 128)       0         \n",
      "_________________________________________________________________\n",
      "conv2d_18 (Conv2D)           (None, 18, 18, 256)       295168    \n",
      "_________________________________________________________________\n",
      "max_pooling2d_15 (MaxPooling (None, 9, 9, 256)         0         \n",
      "_________________________________________________________________\n",
      "conv2d_19 (Conv2D)           (None, 7, 7, 256)         590080    \n",
      "_________________________________________________________________\n",
      "flatten_3 (Flatten)          (None, 12544)             0         \n",
      "_________________________________________________________________\n",
      "dense_3 (Dense)              (None, 1)                 12545     \n",
      "=================================================================\n",
      "Total params: 991,041\n",
      "Trainable params: 991,041\n",
      "Non-trainable params: 0\n",
      "_________________________________________________________________\n"
     ]
    }
   ],
   "source": [
    "model.summary()"
   ]
  },
  {
   "cell_type": "code",
   "execution_count": 64,
   "metadata": {},
   "outputs": [],
   "source": [
    "model.compile(loss=\"binary_crossentropy\",\n",
    "optimizer=\"rmsprop\",\n",
    "metrics=[\"accuracy\"])"
   ]
  },
  {
   "cell_type": "code",
   "execution_count": 65,
   "metadata": {},
   "outputs": [
    {
     "name": "stdout",
     "output_type": "stream",
     "text": [
      "Found 2000 files belonging to 2 classes.\n",
      "Found 1000 files belonging to 2 classes.\n",
      "Found 2000 files belonging to 2 classes.\n"
     ]
    }
   ],
   "source": [
    "from tensorflow.keras.utils import image_dataset_from_directory\n",
    "\n",
    "train_dataset = image_dataset_from_directory(new_base_dir / \"train\" , image_size = (180, 180), batch_size=32)\n",
    "validation_dataset = image_dataset_from_directory(new_base_dir / \"validation\" , image_size = (180, 180), batch_size=32)\n",
    "test_dataset = image_dataset_from_directory(new_base_dir / \"test\" , image_size = (180, 180), batch_size=32)\n",
    "\n"
   ]
  },
  {
   "cell_type": "code",
   "execution_count": 66,
   "metadata": {},
   "outputs": [],
   "source": [
    "callbacks = [keras.callbacks.ModelCheckpoint(filepath=\"convnet_from_scratch.keras\", save_best_only=True, monitor=\"val_loss\")]"
   ]
  },
  {
   "cell_type": "code",
   "execution_count": 67,
   "metadata": {},
   "outputs": [
    {
     "name": "stdout",
     "output_type": "stream",
     "text": [
      "Epoch 1/30\n",
      "63/63 [==============================] - 4s 45ms/step - loss: 0.7676 - accuracy: 0.5015 - val_loss: 0.6889 - val_accuracy: 0.5220\n",
      "Epoch 2/30\n",
      "63/63 [==============================] - 3s 43ms/step - loss: 0.6979 - accuracy: 0.5530 - val_loss: 0.6750 - val_accuracy: 0.5880\n",
      "Epoch 3/30\n",
      "63/63 [==============================] - 3s 43ms/step - loss: 0.6867 - accuracy: 0.5645 - val_loss: 0.6621 - val_accuracy: 0.5940\n",
      "Epoch 4/30\n",
      "63/63 [==============================] - 3s 42ms/step - loss: 0.6523 - accuracy: 0.6505 - val_loss: 0.6362 - val_accuracy: 0.6190\n",
      "Epoch 5/30\n",
      "63/63 [==============================] - 3s 43ms/step - loss: 0.6126 - accuracy: 0.6650 - val_loss: 0.6043 - val_accuracy: 0.6720\n",
      "Epoch 6/30\n",
      "63/63 [==============================] - 3s 42ms/step - loss: 0.5833 - accuracy: 0.6915 - val_loss: 0.6214 - val_accuracy: 0.6710\n",
      "Epoch 7/30\n",
      "63/63 [==============================] - 3s 42ms/step - loss: 0.5481 - accuracy: 0.7250 - val_loss: 0.6517 - val_accuracy: 0.6520\n",
      "Epoch 8/30\n",
      "63/63 [==============================] - 3s 42ms/step - loss: 0.5301 - accuracy: 0.7430 - val_loss: 0.7935 - val_accuracy: 0.6120\n",
      "Epoch 9/30\n",
      "63/63 [==============================] - 3s 42ms/step - loss: 0.4882 - accuracy: 0.7715 - val_loss: 0.5794 - val_accuracy: 0.7240\n",
      "Epoch 10/30\n",
      "63/63 [==============================] - 3s 42ms/step - loss: 0.4368 - accuracy: 0.7940 - val_loss: 0.6298 - val_accuracy: 0.7000\n",
      "Epoch 11/30\n",
      "63/63 [==============================] - 3s 42ms/step - loss: 0.4084 - accuracy: 0.8095 - val_loss: 0.8768 - val_accuracy: 0.6640\n",
      "Epoch 12/30\n",
      "63/63 [==============================] - 3s 42ms/step - loss: 0.3475 - accuracy: 0.8465 - val_loss: 0.8315 - val_accuracy: 0.6980\n",
      "Epoch 13/30\n",
      "63/63 [==============================] - 3s 42ms/step - loss: 0.3182 - accuracy: 0.8600 - val_loss: 0.7127 - val_accuracy: 0.7300\n",
      "Epoch 14/30\n",
      "63/63 [==============================] - 3s 42ms/step - loss: 0.2736 - accuracy: 0.8900 - val_loss: 0.7968 - val_accuracy: 0.7310\n",
      "Epoch 15/30\n",
      "63/63 [==============================] - 3s 42ms/step - loss: 0.2090 - accuracy: 0.9140 - val_loss: 0.8983 - val_accuracy: 0.7230\n",
      "Epoch 16/30\n",
      "63/63 [==============================] - 3s 42ms/step - loss: 0.1871 - accuracy: 0.9245 - val_loss: 0.9843 - val_accuracy: 0.7410\n",
      "Epoch 17/30\n",
      "63/63 [==============================] - 3s 42ms/step - loss: 0.1550 - accuracy: 0.9415 - val_loss: 1.1911 - val_accuracy: 0.7360\n",
      "Epoch 18/30\n",
      "63/63 [==============================] - 3s 42ms/step - loss: 0.1180 - accuracy: 0.9580 - val_loss: 2.8462 - val_accuracy: 0.6590\n",
      "Epoch 19/30\n",
      "63/63 [==============================] - 3s 42ms/step - loss: 0.1102 - accuracy: 0.9580 - val_loss: 1.4537 - val_accuracy: 0.7020\n",
      "Epoch 20/30\n",
      "63/63 [==============================] - 3s 42ms/step - loss: 0.0927 - accuracy: 0.9675 - val_loss: 1.3422 - val_accuracy: 0.7240\n",
      "Epoch 21/30\n",
      "63/63 [==============================] - 3s 42ms/step - loss: 0.0739 - accuracy: 0.9775 - val_loss: 1.3915 - val_accuracy: 0.7160\n",
      "Epoch 22/30\n",
      "63/63 [==============================] - 3s 42ms/step - loss: 0.0713 - accuracy: 0.9760 - val_loss: 2.0815 - val_accuracy: 0.6890\n",
      "Epoch 23/30\n",
      "63/63 [==============================] - 3s 42ms/step - loss: 0.0746 - accuracy: 0.9720 - val_loss: 1.4281 - val_accuracy: 0.7310\n",
      "Epoch 24/30\n",
      "63/63 [==============================] - 3s 42ms/step - loss: 0.0464 - accuracy: 0.9870 - val_loss: 2.1068 - val_accuracy: 0.7150\n",
      "Epoch 25/30\n",
      "63/63 [==============================] - 3s 42ms/step - loss: 0.0523 - accuracy: 0.9855 - val_loss: 2.3770 - val_accuracy: 0.6960\n",
      "Epoch 26/30\n",
      "63/63 [==============================] - 3s 42ms/step - loss: 0.0801 - accuracy: 0.9755 - val_loss: 2.4311 - val_accuracy: 0.7060\n",
      "Epoch 27/30\n",
      "63/63 [==============================] - 3s 42ms/step - loss: 0.0685 - accuracy: 0.9810 - val_loss: 2.0221 - val_accuracy: 0.7340\n",
      "Epoch 28/30\n",
      "63/63 [==============================] - 3s 43ms/step - loss: 0.0468 - accuracy: 0.9845 - val_loss: 2.0710 - val_accuracy: 0.7340\n",
      "Epoch 29/30\n",
      "63/63 [==============================] - 3s 43ms/step - loss: 0.0518 - accuracy: 0.9865 - val_loss: 2.4246 - val_accuracy: 0.7160\n",
      "Epoch 30/30\n",
      "63/63 [==============================] - 3s 42ms/step - loss: 0.0370 - accuracy: 0.9890 - val_loss: 2.2326 - val_accuracy: 0.7080\n"
     ]
    }
   ],
   "source": [
    "history = model.fit(train_dataset, epochs=30, validation_data= validation_dataset, callbacks=callbacks)"
   ]
  },
  {
   "cell_type": "code",
   "execution_count": 68,
   "metadata": {},
   "outputs": [
    {
     "data": {
      "image/png": "[encoded data removed]",
      "text/plain": [
       "<Figure size 432x288 with 1 Axes>"
      ]
     },
     "metadata": {
      "needs_background": "light"
     },
     "output_type": "display_data"
    },
    {
     "data": {
      "image/png": "[encoded data removed]",
      "text/plain": [
       "<Figure size 432x288 with 1 Axes>"
      ]
     },
     "metadata": {
      "needs_background": "light"
     },
     "output_type": "display_data"
    }
   ],
   "source": [
    "import matplotlib.pyplot as plt\n",
    "\n",
    "accuracy = history.history[\"accuracy\"]\n",
    "val_accuracy = history.history[\"val_accuracy\"]\n",
    "loss = history.history[\"loss\"]\n",
    "val_loss = history.history[\"val_loss\"]\n",
    "epochs = range(1, len(accuracy) + 1)\n",
    "plt.plot(epochs, accuracy, \"bo\", label=\"Training accuracy\")\n",
    "plt.plot(epochs, val_accuracy, \"b\", label=\"Validation accuracy\")\n",
    "plt.title(\"Training and validation accuracy\")\n",
    "plt.legend()\n",
    "plt.figure()\n",
    "plt.plot(epochs, loss, \"bo\", label=\"Training accuracy\")\n",
    "plt.plot(epochs, val_loss, \"b\", label=\"Validation accuracy\")\n",
    "plt.title(\"Training and validation loss\")\n",
    "plt.legend()\n",
    "plt.show()"
   ]
  },
  {
   "cell_type": "code",
   "execution_count": 69,
   "metadata": {},
   "outputs": [
    {
     "name": "stdout",
     "output_type": "stream",
     "text": [
      "Model: \"model_3\"\n",
      "_________________________________________________________________\n",
      "Layer (type)                 Output Shape              Param #   \n",
      "=================================================================\n",
      "input_4 (InputLayer)         [(None, 180, 180, 3)]     0         \n",
      "_________________________________________________________________\n",
      "rescaling_3 (Rescaling)      (None, 180, 180, 3)       0         \n",
      "_________________________________________________________________\n",
      "conv2d_15 (Conv2D)           (None, 178, 178, 32)      896       \n",
      "_________________________________________________________________\n",
      "max_pooling2d_12 (MaxPooling (None, 89, 89, 32)        0         \n",
      "_________________________________________________________________\n",
      "conv2d_16 (Conv2D)           (None, 87, 87, 64)        18496     \n",
      "_________________________________________________________________\n",
      "max_pooling2d_13 (MaxPooling (None, 43, 43, 64)        0         \n",
      "_________________________________________________________________\n",
      "conv2d_17 (Conv2D)           (None, 41, 41, 128)       73856     \n",
      "_________________________________________________________________\n",
      "max_pooling2d_14 (MaxPooling (None, 20, 20, 128)       0         \n",
      "_________________________________________________________________\n",
      "conv2d_18 (Conv2D)           (None, 18, 18, 256)       295168    \n",
      "_________________________________________________________________\n",
      "max_pooling2d_15 (MaxPooling (None, 9, 9, 256)         0         \n",
      "_________________________________________________________________\n",
      "conv2d_19 (Conv2D)           (None, 7, 7, 256)         590080    \n",
      "_________________________________________________________________\n",
      "flatten_3 (Flatten)          (None, 12544)             0         \n",
      "_________________________________________________________________\n",
      "dense_3 (Dense)              (None, 1)                 12545     \n",
      "=================================================================\n",
      "Total params: 991,041\n",
      "Trainable params: 991,041\n",
      "Non-trainable params: 0\n",
      "_________________________________________________________________\n"
     ]
    }
   ],
   "source": [
    "from tensorflow import keras\n",
    "\n",
    "model = keras.models.load_model('convnet_from_scratch.keras')\n",
    "model.summary()"
   ]
  },
  {
   "cell_type": "code",
   "execution_count": 70,
   "metadata": {},
   "outputs": [],
   "source": [
    "import cv2\n",
    "import numpy as np\n",
    "\n",
    "test_bgr1 = cv2.imread('cats_vs_dogs/test/cat/cat.1529.jpg')\n",
    "test_bgr2 = cv2.imread('cats_vs_dogs/test/dog/dog.1689.jpg')\n",
    "test_img1 = cv2.cvtColor(test_bgr1, cv2.COLOR_BGR2RGB)\n",
    "test_img2 = cv2.cvtColor(test_bgr2, cv2.COLOR_BGR2RGB)\n",
    "img1 = cv2.resize(test_img1, (180, 180))\n",
    "img2 = cv2.resize(test_img2, (180, 180))\n",
    "\n",
    "imgs = np.array([img1, img2])\n",
    "pred = model.predict(np.expand_dims(img1, axis=0))\n",
    "preds = model.predict(imgs)\n"
   ]
  },
  {
   "cell_type": "code",
   "execution_count": 71,
   "metadata": {},
   "outputs": [
    {
     "data": {
      "text/plain": [
       "array([[0.4439568]], dtype=float32)"
      ]
     },
     "execution_count": 71,
     "metadata": {},
     "output_type": "execute_result"
    }
   ],
   "source": [
    "pred"
   ]
  },
  {
   "cell_type": "code",
   "execution_count": 72,
   "metadata": {},
   "outputs": [
    {
     "data": {
      "text/plain": [
       "array([[0.4439611],\n",
       "       [0.4810843]], dtype=float32)"
      ]
     },
     "execution_count": 72,
     "metadata": {},
     "output_type": "execute_result"
    }
   ],
   "source": [
    "preds"
   ]
  },
  {
   "cell_type": "markdown",
   "metadata": {},
   "source": [
    "# Using VGG16 as feature extractor"
   ]
  },
  {
   "cell_type": "code",
   "execution_count": 74,
   "metadata": {},
   "outputs": [],
   "source": [
    "conv_base = keras.applications.vgg16.VGG16(\n",
    "    weights=\"imagenet\",\n",
    "    include_top=False,\n",
    "    input_shape=(180, 180, 3))"
   ]
  },
  {
   "cell_type": "code",
   "execution_count": 75,
   "metadata": {},
   "outputs": [],
   "source": [
    "import numpy as np\n",
    "\n",
    "def get_features_and_labels(dataset):\n",
    "    all_features = []\n",
    "    all_labels = []\n",
    "    for images, labels in dataset:\n",
    "        preprocessed_images = keras.applications.vgg16.preprocess_input(images)\n",
    "        features = conv_base.predict(preprocessed_images)\n",
    "        all_features.append(features)\n",
    "        all_labels.append(labels)\n",
    "    return np.concatenate(all_features), np.concatenate(all_labels)"
   ]
  },
  {
   "cell_type": "code",
   "execution_count": 76,
   "metadata": {},
   "outputs": [
    {
     "name": "stdout",
     "output_type": "stream",
     "text": [
      "WARNING:tensorflow:5 out of the last 10 calls to <function Model.make_predict_function.<locals>.predict_function at 0x0000023FB8567A60> triggered tf.function retracing. Tracing is expensive and the excessive number of tracings could be due to (1) creating @tf.function repeatedly in a loop, (2) passing tensors with different shapes, (3) passing Python objects instead of tensors. For (1), please define your @tf.function outside of the loop. For (2), @tf.function has experimental_relax_shapes=True option that relaxes argument shapes that can avoid unnecessary retracing. For (3), please refer to https://www.tensorflow.org/guide/function#controlling_retracing and https://www.tensorflow.org/api_docs/python/tf/function for  more details.\n"
     ]
    }
   ],
   "source": [
    "train_features, train_labels =  get_features_and_labels(train_dataset)\n",
    "val_features, val_labels =  get_features_and_labels(validation_dataset)\n",
    "test_features, test_labels =  get_features_and_labels(test_dataset)\n"
   ]
  },
  {
   "cell_type": "code",
   "execution_count": 77,
   "metadata": {},
   "outputs": [
    {
     "name": "stdout",
     "output_type": "stream",
     "text": [
      "Epoch 1/20\n",
      "63/63 [==============================] - 1s 12ms/step - loss: 22.1177 - accuracy: 0.9205 - val_loss: 5.8576 - val_accuracy: 0.9680\n",
      "Epoch 2/20\n",
      "63/63 [==============================] - 0s 5ms/step - loss: 2.9536 - accuracy: 0.9785 - val_loss: 4.5830 - val_accuracy: 0.9670\n",
      "Epoch 3/20\n",
      "63/63 [==============================] - 0s 5ms/step - loss: 2.3473 - accuracy: 0.9840 - val_loss: 5.7122 - val_accuracy: 0.9690\n",
      "Epoch 4/20\n",
      "63/63 [==============================] - 0s 4ms/step - loss: 1.9186 - accuracy: 0.9850 - val_loss: 5.6396 - val_accuracy: 0.9690\n",
      "Epoch 5/20\n",
      "63/63 [==============================] - 0s 4ms/step - loss: 0.5416 - accuracy: 0.9935 - val_loss: 7.1911 - val_accuracy: 0.9690\n",
      "Epoch 6/20\n",
      "63/63 [==============================] - 0s 5ms/step - loss: 0.8686 - accuracy: 0.9955 - val_loss: 6.2034 - val_accuracy: 0.9670\n",
      "Epoch 7/20\n",
      "63/63 [==============================] - 0s 5ms/step - loss: 0.1638 - accuracy: 0.9985 - val_loss: 5.3856 - val_accuracy: 0.9710\n",
      "Epoch 8/20\n",
      "63/63 [==============================] - 0s 4ms/step - loss: 0.5683 - accuracy: 0.9945 - val_loss: 5.0222 - val_accuracy: 0.9740\n",
      "Epoch 9/20\n",
      "63/63 [==============================] - 0s 4ms/step - loss: 0.7732 - accuracy: 0.9920 - val_loss: 5.4011 - val_accuracy: 0.9670\n",
      "Epoch 10/20\n",
      "63/63 [==============================] - 0s 4ms/step - loss: 0.4521 - accuracy: 0.9960 - val_loss: 5.9160 - val_accuracy: 0.9730\n",
      "Epoch 11/20\n",
      "63/63 [==============================] - 0s 4ms/step - loss: 0.2695 - accuracy: 0.9980 - val_loss: 5.7764 - val_accuracy: 0.9730\n",
      "Epoch 12/20\n",
      "63/63 [==============================] - 0s 4ms/step - loss: 0.0506 - accuracy: 0.9985 - val_loss: 5.8864 - val_accuracy: 0.9710\n",
      "Epoch 13/20\n",
      "63/63 [==============================] - 0s 4ms/step - loss: 0.1367 - accuracy: 0.9975 - val_loss: 6.0686 - val_accuracy: 0.9740\n",
      "Epoch 14/20\n",
      "63/63 [==============================] - 0s 4ms/step - loss: 0.2406 - accuracy: 0.9970 - val_loss: 5.6062 - val_accuracy: 0.9670\n",
      "Epoch 15/20\n",
      "63/63 [==============================] - 0s 4ms/step - loss: 0.3014 - accuracy: 0.9975 - val_loss: 6.4560 - val_accuracy: 0.9690\n",
      "Epoch 16/20\n",
      "63/63 [==============================] - 0s 4ms/step - loss: 2.8077e-12 - accuracy: 1.0000 - val_loss: 6.4560 - val_accuracy: 0.9690\n",
      "Epoch 17/20\n",
      "63/63 [==============================] - 0s 4ms/step - loss: 1.0106e-09 - accuracy: 1.0000 - val_loss: 6.4866 - val_accuracy: 0.9690\n",
      "Epoch 18/20\n",
      "63/63 [==============================] - 0s 4ms/step - loss: 3.7490e-21 - accuracy: 1.0000 - val_loss: 6.4866 - val_accuracy: 0.9690\n",
      "Epoch 19/20\n",
      "63/63 [==============================] - 0s 4ms/step - loss: 0.6542 - accuracy: 0.9960 - val_loss: 6.1579 - val_accuracy: 0.9720\n",
      "Epoch 20/20\n",
      "63/63 [==============================] - 0s 4ms/step - loss: 0.1015 - accuracy: 0.9980 - val_loss: 6.7640 - val_accuracy: 0.9760\n"
     ]
    }
   ],
   "source": [
    "inputs = keras.Input(shape=(5, 5, 512))\n",
    "x = layers.Flatten()(inputs)\n",
    "x = layers.Dense(256)(x)\n",
    "x = layers.Dropout(0.5)(x)\n",
    "outputs = layers.Dense(1, activation=\"sigmoid\")(x)\n",
    "model = keras.Model(inputs, outputs)\n",
    "model.compile(loss=\"binary_crossentropy\",\n",
    "              optimizer=\"rmsprop\",\n",
    "              metrics=[\"accuracy\"])\n",
    "\n",
    "callbacks = [\n",
    "    keras.callbacks.ModelCheckpoint(\n",
    "      filepath=\"feature_extraction.keras\",\n",
    "      save_best_only=True,\n",
    "      monitor=\"val_loss\")\n",
    "]\n",
    "history = model.fit(\n",
    "    train_features, train_labels,\n",
    "    epochs=20,\n",
    "    validation_data=(val_features, val_labels),\n",
    "    callbacks=callbacks)"
   ]
  },
  {
   "cell_type": "code",
   "execution_count": 78,
   "metadata": {},
   "outputs": [
    {
     "name": "stdout",
     "output_type": "stream",
     "text": [
      "Model: \"model_4\"\n",
      "_________________________________________________________________\n",
      "Layer (type)                 Output Shape              Param #   \n",
      "=================================================================\n",
      "input_7 (InputLayer)         [(None, 5, 5, 512)]       0         \n",
      "_________________________________________________________________\n",
      "flatten_4 (Flatten)          (None, 12800)             0         \n",
      "_________________________________________________________________\n",
      "dense_4 (Dense)              (None, 256)               3277056   \n",
      "_________________________________________________________________\n",
      "dropout (Dropout)            (None, 256)               0         \n",
      "_________________________________________________________________\n",
      "dense_5 (Dense)              (None, 1)                 257       \n",
      "=================================================================\n",
      "Total params: 3,277,313\n",
      "Trainable params: 3,277,313\n",
      "Non-trainable params: 0\n",
      "_________________________________________________________________\n"
     ]
    }
   ],
   "source": [
    "from tensorflow import keras\n",
    "\n",
    "model = keras.models.load_model('feature_extraction.keras')\n",
    "model.summary()"
   ]
  },
  {
   "cell_type": "code",
   "execution_count": 79,
   "metadata": {},
   "outputs": [],
   "source": [
    "import cv2\n",
    "import numpy as np\n",
    "\n",
    "test_bgr1 = cv2.imread('cats_vs_dogs/test/cat/cat.1529.jpg')\n",
    "test_bgr2 = cv2.imread('cats_vs_dogs/test/dog/dog.1689.jpg')\n",
    "test_img1 = cv2.cvtColor(test_bgr1, cv2.COLOR_BGR2RGB)\n",
    "test_img2 = cv2.cvtColor(test_bgr2, cv2.COLOR_BGR2RGB)\n",
    "img1 = cv2.resize(test_img1, (180, 180))\n",
    "img2 = cv2.resize(test_img2, (180, 180))\n",
    "\n",
    "imgs = np.array([img1, img2])\n",
    "features = conv_base.predict(imgs)\n",
    "preds = model.predict(features)\n"
   ]
  },
  {
   "cell_type": "code",
   "execution_count": 80,
   "metadata": {},
   "outputs": [
    {
     "data": {
      "text/plain": [
       "array([[0.],\n",
       "       [1.]], dtype=float32)"
      ]
     },
     "execution_count": 80,
     "metadata": {},
     "output_type": "execute_result"
    }
   ],
   "source": [
    "preds"
   ]
  }
 ],
 "metadata": {
  "kernelspec": {
   "display_name": "Python 3.7.15 ('ece-5831')",
   "language": "python",
   "name": "python3"
  },
  "language_info": {
   "codemirror_mode": {
    "name": "ipython",
    "version": 3
   },
   "file_extension": ".py",
   "mimetype": "text/x-python",
   "name": "python",
   "nbconvert_exporter": "python",
   "pygments_lexer": "ipython3",
   "version": "3.9.12"
  },
  "orig_nbformat": 4,
  "vscode": {
   "interpreter": {
    "hash": "d2e5b5dc2daf130ffffd4fce373a4fb54aca69b910ecf6fa450c95039c85823b"
   }
  }
 },
 "nbformat": 4,
 "nbformat_minor": 2
}
